{
 "cells": [
  {
   "cell_type": "code",
   "execution_count": null,
   "metadata": {},
   "outputs": [],
   "source": [
    "import pandas as pd\n",
    "import matplotlib.pyplot as plt\n",
    "# Read the Excel file into a DataFrame\n",
    "df = pd.read_excel(r\"C:\\Users\\HP\\Desktop\\Python\\companies.xlsx\")\n",
    "\n",
    "# Column to plot\n",
    "column_to_plot = 'Revenue (USD millions)'\n",
    "\n",
    "# Create a histogram with styling options\n",
    "plt.hist(df[column_to_plot], bins=20, edgecolor='black', color='skyblue', alpha=0.7) # Add 'color and alpha' for better readability\n",
    "plt.xlabel(column_to_plot)\n",
    "plt.ylabel('Frequency')\n",
    "plt.title(f'Histogram of {column_to_plot}')\n",
    "plt.grid(True)  # Add grid lines for better readability\n",
    "plt.show()"
   ]
  }
 ],
 "metadata": {
  "language_info": {
   "name": "python"
  }
 },
 "nbformat": 4,
 "nbformat_minor": 2
}
